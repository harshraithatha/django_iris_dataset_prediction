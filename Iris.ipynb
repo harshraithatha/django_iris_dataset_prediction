{
 "cells": [
  {
   "cell_type": "code",
   "execution_count": null,
   "metadata": {},
   "outputs": [],
   "source": [
    "# Load modules\n",
    "import pandas as pd\n",
    "from pathlib import Path\n",
    "from sklearn.model_selection import train_test_split\n",
    "from sklearn.metrics import accuracy_score\n",
    "from sklearn.svm import SVC\n",
    "\n",
    "# Define path\n",
    "INPUT_DIR = Path.home() / 'OneDrive - kyndryl' / 'Files' / 'Sensitive' / 'Education Documents' / 'Great Lakes' / 'Anaconda' / 'Django' / 'Iris'\n",
    "OUTPUT_DIR = Path.home() / 'OneDrive - kyndryl' / 'Files' / 'Sensitive' / 'Education Documents' / 'Great Lakes' / 'Anaconda' / 'Django' / 'Iris'\n",
    "MODEL_DIR = INPUT_DIR / 'model'\n",
    "\n",
    "# Load dataset\n",
    "df = pd.read_csv(INPUT_DIR / \"iris.csv\")\n",
    "\n",
    "# Split into train and test data\n",
    "X = df[['sepal_length', 'sepal_width', 'petal_length', 'petal_width']]\n",
    "y = df['classification']\n",
    "\n",
    "# Create train and test split (using 80/20)\n",
    "X_train, X_test, y_train, y_test = train_test_split(X, y, test_size=0.20, random_state=9)\n",
    "\n",
    "# Fit the model on the train data\n",
    "model = SVC(gamma='auto')\n",
    "model.fit(X_train, y_train)\n",
    "\n",
    "# Make predictions on validation dataset\n",
    "predictions = model.predict(X_test)\n",
    "\n",
    "# Evaluate prediction accuracy\n",
    "print(f\"Accuracy: {round(accuracy_score(y_test, predictions)*100, 1)}%\")\n",
    "\n",
    "# Pickle model \n",
    "pd.to_pickle(model, MODEL_DIR / 'iris_model.pickle')\n",
    "\n",
    "# Unpickle model \n",
    "model = pd.read_pickle(MODEL_DIR / 'iris_model.pickle')\n",
    "\n",
    "# Take input from user\n",
    "sepal_length = float(input(\"Enter sepal_length: \"))\n",
    "sepal_width = float(input(\"Enter sepal_width: \"))\n",
    "petal_length = float(input(\"Enter petal_length: \"))\n",
    "petal_width = float(input(\"Enter petal_width: \"))\n",
    "\n",
    "# Show result (input must be 2D array)\n",
    "result = model.predict([[sepal_length, sepal_width, petal_length, petal_width]])\n",
    "print(f\"Predication --> {result}\")"
   ]
  }
 ],
 "metadata": {
  "kernelspec": {
   "display_name": "Python 3.9.7 ('base')",
   "language": "python",
   "name": "python3"
  },
  "language_info": {
   "codemirror_mode": {
    "name": "ipython",
    "version": 3
   },
   "file_extension": ".py",
   "mimetype": "text/x-python",
   "name": "python",
   "nbconvert_exporter": "python",
   "pygments_lexer": "ipython3",
   "version": "3.9.7"
  },
  "vscode": {
   "interpreter": {
    "hash": "42e5ee21d6d17400fee27984328018966fe6b9106c1785a84ad6771e224864d0"
   }
  }
 },
 "nbformat": 4,
 "nbformat_minor": 4
}
